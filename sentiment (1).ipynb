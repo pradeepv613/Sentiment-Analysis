{
 "cells": [
  {
   "cell_type": "code",
   "execution_count": 2,
   "metadata": {},
   "outputs": [],
   "source": [
    "import pandas as pd\n",
    "import numpy as np"
   ]
  },
  {
   "cell_type": "code",
   "execution_count": 3,
   "metadata": {},
   "outputs": [],
   "source": [
    "import nltk.data\n",
    "from nltk.stem.porter import *\n",
    "#pd.options.mode.chained_assignment = None\n",
    "import os\n",
    "import nltk\n",
    "from textblob import TextBlob"
   ]
  },
  {
   "cell_type": "code",
   "execution_count": 4,
   "metadata": {},
   "outputs": [
    {
     "data": {
      "text/plain": [
       "'/Users/pradeepvaddigadda'"
      ]
     },
     "execution_count": 4,
     "metadata": {},
     "output_type": "execute_result"
    }
   ],
   "source": [
    "pwd"
   ]
  },
  {
   "cell_type": "code",
   "execution_count": null,
   "metadata": {},
   "outputs": [],
   "source": [
    "tweets_df=pd.read_csv(\"pulwama_tweets.csv\")"
   ]
  },
  {
   "cell_type": "code",
   "execution_count": null,
   "metadata": {},
   "outputs": [],
   "source": [
    "tweets_df.head()"
   ]
  },
  {
   "cell_type": "code",
   "execution_count": null,
   "metadata": {},
   "outputs": [],
   "source": [
    "tweets_df.isnull().sum()"
   ]
  },
  {
   "cell_type": "code",
   "execution_count": null,
   "metadata": {},
   "outputs": [],
   "source": [
    "tweets_df['text'].fillna('pulwama attack',inplace = True)\n",
    "tweets_df['text'] = tweets_df['text'].apply(lambda x : 'Pulwama attack' if x.startswith('http') else x)\n",
    "tweets_df['location'].fillna('india',inplace = True)\n",
    "tweets_df['location'] = tweets_df['location'].apply(lambda x : x.lower())\n",
    "tweets_df['location'] = tweets_df['location'].apply(lambda x : 'india' if x.endswith('भारत') else x)\n",
    "tweets_df['location'] = tweets_df['location'].apply(lambda x : 'india' if x.startswith('भारत') else x)\n",
    "tweets_df['location'] = tweets_df['location'].apply(lambda x : 'india' if x.startswith('हिन्दू') else x)"
   ]
  },
  {
   "cell_type": "code",
   "execution_count": null,
   "metadata": {},
   "outputs": [],
   "source": [
    "tweets_df['location'].fillna('india',inplace = True)"
   ]
  },
  {
   "cell_type": "code",
   "execution_count": null,
   "metadata": {},
   "outputs": [],
   "source": [
    "tweets_df.isnull().sum()"
   ]
  },
  {
   "cell_type": "code",
   "execution_count": null,
   "metadata": {},
   "outputs": [],
   "source": [
    "tweets_df.drop('description', axis=1, inplace=True)\n",
    "tweets_df.drop('url', axis=1, inplace=True)"
   ]
  },
  {
   "cell_type": "code",
   "execution_count": null,
   "metadata": {},
   "outputs": [],
   "source": [
    "tweets_df.drop('Unnamed: 0', axis=1, inplace=True)"
   ]
  },
  {
   "cell_type": "code",
   "execution_count": null,
   "metadata": {},
   "outputs": [],
   "source": [
    "tweets_df.isnull().sum()"
   ]
  },
  {
   "cell_type": "code",
   "execution_count": null,
   "metadata": {},
   "outputs": [],
   "source": [
    "tweets_df['name'].fillna('indian',inplace = True)\n",
    "tweets_df['followers'].fillna('0',inplace = True)\n",
    "tweets_df['datetime'].fillna('Wed Feb 20 06:57:25 +0000 2019',inplace = True)"
   ]
  },
  {
   "cell_type": "code",
   "execution_count": null,
   "metadata": {},
   "outputs": [],
   "source": [
    "tweets_df.isnull().sum()"
   ]
  },
  {
   "cell_type": "code",
   "execution_count": null,
   "metadata": {},
   "outputs": [],
   "source": [
    "import re\n",
    "import string\n",
    "\n",
    "def clean_text_round1(text):\n",
    "    '''Make text lowercase, remove text in square brackets, remove punctuation and remove words containing numbers.'''\n",
    "    text = text.lower()\n",
    "    text = re.sub('\\[.*?\\]', '', text)  \n",
    "    text = re.sub('[%s]' % re.escape(string.punctuation), '', text)\n",
    "    text = re.sub('\\w*\\d\\w*', '', text)\n",
    "    return text\n",
    "\n",
    "tweets_df['text'] = tweets_df['text'].apply(clean_text_round1)"
   ]
  },
  {
   "cell_type": "code",
   "execution_count": null,
   "metadata": {},
   "outputs": [],
   "source": [
    "tweets_df['text'] = tweets_df['text'].apply(lambda x: re.sub('[!@#$:).;,?&]', '', x.lower()))\n",
    "tweets_df['text'] = tweets_df['text'].apply(lambda x: re.sub('  ', ' ', x))\n",
    "tweets_df['text'][1]"
   ]
  },
  {
   "cell_type": "code",
   "execution_count": null,
   "metadata": {},
   "outputs": [],
   "source": [
    "for i in range(len(tweets_df['text'])):\n",
    "    tweets_df['text'][i] = \" \".join([word for word in tweets_df['text'][i].split()\n",
    "                                if 'http' not in word and '@' not in word and '<' not in word])\n",
    "\n",
    "\n",
    "tweets_df['text'][1]"
   ]
  },
  {
   "cell_type": "code",
   "execution_count": null,
   "metadata": {},
   "outputs": [],
   "source": [
    "tweets_df['text'][10]"
   ]
  },
  {
   "cell_type": "code",
   "execution_count": null,
   "metadata": {},
   "outputs": [],
   "source": [
    "tweets_df['text'][5]"
   ]
  },
  {
   "cell_type": "code",
   "execution_count": null,
   "metadata": {},
   "outputs": [],
   "source": [
    "def remove_emojis(data):\n",
    "    emoj = re.compile(\"[\"\n",
    "        u\"\\U0001F600-\\U0001F64F\"  # emoticons\n",
    "        u\"\\U0001F300-\\U0001F5FF\"  # symbols & pictographs\n",
    "        u\"\\U0001F680-\\U0001F6FF\"  # transport & map symbols\n",
    "        u\"\\U0001F1E0-\\U0001F1FF\"  # flags (iOS)\n",
    "        u\"\\U00002500-\\U00002BEF\"  # chinese char\n",
    "        u\"\\U00002702-\\U000027B0\"\n",
    "        u\"\\U00002702-\\U000027B0\"\n",
    "        u\"\\U000024C2-\\U0001F251\"\n",
    "        u\"\\U0001f926-\\U0001f937\"\n",
    "        u\"\\U00010000-\\U0010ffff\"\n",
    "        u\"\\u2640-\\u2642\" \n",
    "        u\"\\u2600-\\u2B55\"\n",
    "        u\"\\u200d\"\n",
    "        u\"\\u23cf\"\n",
    "        u\"\\u23e9\"\n",
    "        u\"\\u231a\"\n",
    "        u\"\\ufe0f\"  # dingbats\n",
    "        u\"\\u3030\"\n",
    "                      \"]+\", re.UNICODE)\n",
    "    return re.sub(emoj, '', data)\n",
    "tweets_df['text']= tweets_df['text'].apply(remove_emojis)"
   ]
  },
  {
   "cell_type": "code",
   "execution_count": null,
   "metadata": {},
   "outputs": [],
   "source": [
    "tweets_df['text'][15]"
   ]
  },
  {
   "cell_type": "code",
   "execution_count": null,
   "metadata": {},
   "outputs": [],
   "source": [
    "def clean_text_round2(text):\n",
    "    '''Get rid of some additional punctuation and non-sensical text that was missed the first time around.'''\n",
    "    text = re.sub('[‘’“”…]', '', text)\n",
    "    text = re.sub('\\n', '', text)\n",
    "    text =re.sub('|','',text)\n",
    "    return text\n",
    "tweets_df['text'] = tweets_df['text'].apply(clean_text_round2)"
   ]
  },
  {
   "cell_type": "code",
   "execution_count": null,
   "metadata": {},
   "outputs": [],
   "source": [
    "tweets_df.head()"
   ]
  },
  {
   "cell_type": "code",
   "execution_count": null,
   "metadata": {},
   "outputs": [],
   "source": [
    "import pandas as pd"
   ]
  },
  {
   "cell_type": "code",
   "execution_count": null,
   "metadata": {},
   "outputs": [],
   "source": [
    "pwd"
   ]
  },
  {
   "cell_type": "code",
   "execution_count": null,
   "metadata": {},
   "outputs": [],
   "source": [
    "#cd /Users/pradeepvaddigadda/downloads"
   ]
  },
  {
   "cell_type": "code",
   "execution_count": null,
   "metadata": {},
   "outputs": [],
   "source": [
    "sen=pd.read_csv('tweets.csv')"
   ]
  },
  {
   "cell_type": "code",
   "execution_count": null,
   "metadata": {},
   "outputs": [],
   "source": [
    "sen"
   ]
  },
  {
   "cell_type": "code",
   "execution_count": null,
   "metadata": {},
   "outputs": [],
   "source": [
    "sen['text'][0]"
   ]
  },
  {
   "cell_type": "code",
   "execution_count": null,
   "metadata": {},
   "outputs": [],
   "source": [
    "pip install googletrans"
   ]
  },
  {
   "cell_type": "code",
   "execution_count": null,
   "metadata": {},
   "outputs": [],
   "source": [
    "import googletrans\n",
    "\n",
    "print(googletrans.LANGUAGES)"
   ]
  },
  {
   "cell_type": "code",
   "execution_count": null,
   "metadata": {},
   "outputs": [],
   "source": [
    "from googletrans import Translator"
   ]
  },
  {
   "cell_type": "code",
   "execution_count": null,
   "metadata": {},
   "outputs": [],
   "source": [
    "translator = Translator()"
   ]
  },
  {
   "cell_type": "code",
   "execution_count": null,
   "metadata": {},
   "outputs": [],
   "source": [
    "result = translator.translate('rt देश भक्ति के इस जज्बे को भी सलाम है pulwamaattack')"
   ]
  },
  {
   "cell_type": "code",
   "execution_count": null,
   "metadata": {},
   "outputs": [],
   "source": [
    "print(result)"
   ]
  },
  {
   "cell_type": "code",
   "execution_count": null,
   "metadata": {},
   "outputs": [],
   "source": [
    "df=sen.head(10)"
   ]
  },
  {
   "cell_type": "code",
   "execution_count": null,
   "metadata": {},
   "outputs": [],
   "source": [
    "def convert(x):\n",
    "    try:\n",
    "        translator = Translator()\n",
    "        result = translator.translate(x)\n",
    "        return result.text\n",
    "    except:\n",
    "        print('exception occured')\n"
   ]
  },
  {
   "cell_type": "code",
   "execution_count": null,
   "metadata": {},
   "outputs": [],
   "source": [
    "df['Text'] = df['text'].map(lambda x: convert(str(x)))"
   ]
  },
  {
   "cell_type": "code",
   "execution_count": null,
   "metadata": {},
   "outputs": [],
   "source": [
    "sent=sen.head(1000)"
   ]
  },
  {
   "cell_type": "code",
   "execution_count": null,
   "metadata": {},
   "outputs": [],
   "source": [
    "sent['Text'] = sent['text'].map(lambda x: convert(str(x)))"
   ]
  },
  {
   "cell_type": "code",
   "execution_count": null,
   "metadata": {},
   "outputs": [],
   "source": [
    "sen1=sen[1000:5000]"
   ]
  },
  {
   "cell_type": "code",
   "execution_count": null,
   "metadata": {},
   "outputs": [],
   "source": [
    "sen1['Text'] = sen1['text'].map(lambda x: convert(str(x)))"
   ]
  },
  {
   "cell_type": "code",
   "execution_count": null,
   "metadata": {},
   "outputs": [],
   "source": [
    "sen1"
   ]
  },
  {
   "cell_type": "code",
   "execution_count": null,
   "metadata": {},
   "outputs": [],
   "source": [
    "sen2=sen[5000:10000]"
   ]
  },
  {
   "cell_type": "code",
   "execution_count": null,
   "metadata": {},
   "outputs": [],
   "source": [
    "sen2['Text'] = sen2['text'].map(lambda x: convert(str(x)))"
   ]
  },
  {
   "cell_type": "code",
   "execution_count": null,
   "metadata": {},
   "outputs": [],
   "source": [
    "df=sent.append(sen1,ignore_index=True)"
   ]
  },
  {
   "cell_type": "code",
   "execution_count": null,
   "metadata": {},
   "outputs": [],
   "source": [
    "df1=df.append(sen2,ignore_index=False)"
   ]
  },
  {
   "cell_type": "code",
   "execution_count": null,
   "metadata": {},
   "outputs": [],
   "source": [
    "df1"
   ]
  },
  {
   "cell_type": "code",
   "execution_count": null,
   "metadata": {},
   "outputs": [],
   "source": [
    "cd /Users/pradeepvaddigadda/desktop/text"
   ]
  },
  {
   "cell_type": "code",
   "execution_count": null,
   "metadata": {},
   "outputs": [],
   "source": [
    "df1.to_csv('cleanedfilm_10000.csv', header=True, index=True)"
   ]
  },
  {
   "cell_type": "code",
   "execution_count": null,
   "metadata": {},
   "outputs": [],
   "source": [
    "pwd"
   ]
  },
  {
   "cell_type": "code",
   "execution_count": 5,
   "metadata": {},
   "outputs": [
    {
     "name": "stdout",
     "output_type": "stream",
     "text": [
      "/Users/pradeepvaddigadda/Desktop/text\n"
     ]
    }
   ],
   "source": [
    "cd /Users/pradeepvaddigadda/desktop/text"
   ]
  },
  {
   "cell_type": "code",
   "execution_count": 37,
   "metadata": {},
   "outputs": [],
   "source": [
    "df1=pd.read_csv('cleanedfilm_10000.csv')"
   ]
  },
  {
   "cell_type": "code",
   "execution_count": 38,
   "metadata": {},
   "outputs": [],
   "source": [
    "\n",
    "#df1=pd.read_csv('cleanedfilm_10000.csv')\n",
    "df2=pd.read_csv('cleanedfilm_10to15.csv')\n",
    "df13=pd.read_csv('cleanedfilm_10to15.csv')\n",
    "df3=pd.read_csv('cleanedfilm_20to25.csv')\n",
    "df4=pd.read_csv('cleanedfilm_25to30.csv')\n",
    "df5=pd.read_csv('cleanedfilm_30to35.csv')\n",
    "df6=pd.read_csv('cleanedfilm_35to40.csv')\n",
    "df7=pd.read_csv('cleanedfilm_40to45.csv')\n",
    "df8=pd.read_csv('cleanedfilm_45to50.csv')\n",
    "df9=pd.read_csv('cleanedfilm_50to51.csv')\n",
    "df10=pd.read_csv('cleanedfilm_51to52.csv')\n",
    "df11=pd.read_csv('cleanedfilm_52to53.csv')\n",
    "df12=pd.read_csv('cleanedfilm_53to54.csv')\n"
   ]
  },
  {
   "cell_type": "code",
   "execution_count": 39,
   "metadata": {},
   "outputs": [
    {
     "data": {
      "text/html": [
       "<div>\n",
       "<style scoped>\n",
       "    .dataframe tbody tr th:only-of-type {\n",
       "        vertical-align: middle;\n",
       "    }\n",
       "\n",
       "    .dataframe tbody tr th {\n",
       "        vertical-align: top;\n",
       "    }\n",
       "\n",
       "    .dataframe thead th {\n",
       "        text-align: right;\n",
       "    }\n",
       "</style>\n",
       "<table border=\"1\" class=\"dataframe\">\n",
       "  <thead>\n",
       "    <tr style=\"text-align: right;\">\n",
       "      <th></th>\n",
       "      <th>Unnamed: 0</th>\n",
       "      <th>Unnamed: 0.1</th>\n",
       "      <th>name</th>\n",
       "      <th>location</th>\n",
       "      <th>followers</th>\n",
       "      <th>text</th>\n",
       "      <th>datetime</th>\n",
       "      <th>Text</th>\n",
       "    </tr>\n",
       "  </thead>\n",
       "  <tbody>\n",
       "    <tr>\n",
       "      <th>0</th>\n",
       "      <td>50000</td>\n",
       "      <td>50000</td>\n",
       "      <td>Sho Afridi</td>\n",
       "      <td>dubai, united arab emirates</td>\n",
       "      <td>61.0</td>\n",
       "      <td>ایسے خبریں صرف لبڑلوں اور خرامخورں کے پاس ملنگ...</td>\n",
       "      <td>Wed Feb 20 14:46:16 +0000 2019</td>\n",
       "      <td>Such news will be available only to the scound...</td>\n",
       "    </tr>\n",
       "    <tr>\n",
       "      <th>1</th>\n",
       "      <td>50001</td>\n",
       "      <td>50001</td>\n",
       "      <td>Bhanu Pratap Singh Rawat</td>\n",
       "      <td>india</td>\n",
       "      <td>23.0</td>\n",
       "      <td>पुलवामा में crpf जवानों पर हुए कायराना आतंकवाद...</td>\n",
       "      <td>Wed Feb 20 14:46:17 +0000 2019</td>\n",
       "      <td>In the dastardly terrorist attack on CRPF jawa...</td>\n",
       "    </tr>\n",
       "    <tr>\n",
       "      <th>2</th>\n",
       "      <td>50002</td>\n",
       "      <td>50002</td>\n",
       "      <td>Arun GS</td>\n",
       "      <td>india</td>\n",
       "      <td>1.0</td>\n",
       "      <td>meraparivarbajpaparivar i suport namo i suppor...</td>\n",
       "      <td>Wed Feb 20 14:46:17 +0000 2019</td>\n",
       "      <td>meraparivarbajpaparivar i suport namo i suppor...</td>\n",
       "    </tr>\n",
       "    <tr>\n",
       "      <th>3</th>\n",
       "      <td>50003</td>\n",
       "      <td>50003</td>\n",
       "      <td>Eddy</td>\n",
       "      <td>pakistan</td>\n",
       "      <td>95.0</td>\n",
       "      <td>pulwamaattack pulwamaterrorattack bollywood ty...</td>\n",
       "      <td>Wed Feb 20 14:46:17 +0000 2019</td>\n",
       "      <td>pulwamaattack pulwamaterrorattack bollywood ty...</td>\n",
       "    </tr>\n",
       "    <tr>\n",
       "      <th>4</th>\n",
       "      <td>50004</td>\n",
       "      <td>50004</td>\n",
       "      <td>Pooja Goswami</td>\n",
       "      <td>rajasthan, india</td>\n",
       "      <td>81737.0</td>\n",
       "      <td>परवेज मुशर्रफ का कहना है कि मसूद अजहर ओर हाफिज...</td>\n",
       "      <td>Wed Feb 20 14:46:17 +0000 2019</td>\n",
       "      <td>Pervez Musharraf says that Masood Azhar and Ha...</td>\n",
       "    </tr>\n",
       "    <tr>\n",
       "      <th>...</th>\n",
       "      <td>...</td>\n",
       "      <td>...</td>\n",
       "      <td>...</td>\n",
       "      <td>...</td>\n",
       "      <td>...</td>\n",
       "      <td>...</td>\n",
       "      <td>...</td>\n",
       "      <td>...</td>\n",
       "    </tr>\n",
       "    <tr>\n",
       "      <th>995</th>\n",
       "      <td>50995</td>\n",
       "      <td>50995</td>\n",
       "      <td>Pankaj Mandal</td>\n",
       "      <td>indian</td>\n",
       "      <td>51.0</td>\n",
       "      <td>परवेज मुशर्रफ का कहना है कि मसूद अजहर ओर हाफिज...</td>\n",
       "      <td>Wed Feb 20 14:56:21 +0000 2019</td>\n",
       "      <td>Pervez Musharraf says that Masood Azhar and Ha...</td>\n",
       "    </tr>\n",
       "    <tr>\n",
       "      <th>996</th>\n",
       "      <td>50996</td>\n",
       "      <td>50996</td>\n",
       "      <td>Choudhary Sombir Lather</td>\n",
       "      <td>budha khera lather</td>\n",
       "      <td>29.0</td>\n",
       "      <td>आज चंडीगढ़ में पुलवामाआतंकीहमलें में शहीद हुए ...</td>\n",
       "      <td>Wed Feb 20 14:56:22 +0000 2019</td>\n",
       "      <td>Today, candle march was organized on behalf of...</td>\n",
       "    </tr>\n",
       "    <tr>\n",
       "      <th>997</th>\n",
       "      <td>50997</td>\n",
       "      <td>50997</td>\n",
       "      <td>Choudhary Sombir Lather</td>\n",
       "      <td>budha khera lather</td>\n",
       "      <td>29.0</td>\n",
       "      <td>कृस्न करीम राम हरि राघव जब लग एक न पेखा। वेद क...</td>\n",
       "      <td>Wed Feb 20 14:56:22 +0000 2019</td>\n",
       "      <td>Krissin Karim Ram Hari Raghav When Lag Ek Na P...</td>\n",
       "    </tr>\n",
       "    <tr>\n",
       "      <th>998</th>\n",
       "      <td>50998</td>\n",
       "      <td>50998</td>\n",
       "      <td>विकाश कुमार - सेकुलरिज्म एक कैंसर है।</td>\n",
       "      <td>ranchi</td>\n",
       "      <td>24.0</td>\n",
       "      <td>opinion even at a critical juncture mamata ban...</td>\n",
       "      <td>Wed Feb 20 14:56:23 +0000 2019</td>\n",
       "      <td>opinion even at a critical juncture mamata ban...</td>\n",
       "    </tr>\n",
       "    <tr>\n",
       "      <th>999</th>\n",
       "      <td>50999</td>\n",
       "      <td>50999</td>\n",
       "      <td>Path of Music College</td>\n",
       "      <td>india</td>\n",
       "      <td>2019.0</td>\n",
       "      <td>राष्ट्रवादी समूह बजरंग दल में बजरंग होने के ना...</td>\n",
       "      <td>Wed Feb 20 14:56:23 +0000 2019</td>\n",
       "      <td>Being a Bajrang in the nationalist group Bajra...</td>\n",
       "    </tr>\n",
       "  </tbody>\n",
       "</table>\n",
       "<p>1000 rows × 8 columns</p>\n",
       "</div>"
      ],
      "text/plain": [
       "     Unnamed: 0  Unnamed: 0.1                                   name  \\\n",
       "0         50000         50000                             Sho Afridi   \n",
       "1         50001         50001               Bhanu Pratap Singh Rawat   \n",
       "2         50002         50002                                Arun GS   \n",
       "3         50003         50003                                   Eddy   \n",
       "4         50004         50004                          Pooja Goswami   \n",
       "..          ...           ...                                    ...   \n",
       "995       50995         50995                          Pankaj Mandal   \n",
       "996       50996         50996                Choudhary Sombir Lather   \n",
       "997       50997         50997                Choudhary Sombir Lather   \n",
       "998       50998         50998  विकाश कुमार - सेकुलरिज्म एक कैंसर है।   \n",
       "999       50999         50999                  Path of Music College   \n",
       "\n",
       "                        location  followers  \\\n",
       "0    dubai, united arab emirates       61.0   \n",
       "1                          india       23.0   \n",
       "2                          india        1.0   \n",
       "3                       pakistan       95.0   \n",
       "4               rajasthan, india    81737.0   \n",
       "..                           ...        ...   \n",
       "995                       indian       51.0   \n",
       "996           budha khera lather       29.0   \n",
       "997           budha khera lather       29.0   \n",
       "998                       ranchi       24.0   \n",
       "999                        india     2019.0   \n",
       "\n",
       "                                                  text  \\\n",
       "0    ایسے خبریں صرف لبڑلوں اور خرامخورں کے پاس ملنگ...   \n",
       "1    पुलवामा में crpf जवानों पर हुए कायराना आतंकवाद...   \n",
       "2    meraparivarbajpaparivar i suport namo i suppor...   \n",
       "3    pulwamaattack pulwamaterrorattack bollywood ty...   \n",
       "4    परवेज मुशर्रफ का कहना है कि मसूद अजहर ओर हाफिज...   \n",
       "..                                                 ...   \n",
       "995  परवेज मुशर्रफ का कहना है कि मसूद अजहर ओर हाफिज...   \n",
       "996  आज चंडीगढ़ में पुलवामाआतंकीहमलें में शहीद हुए ...   \n",
       "997  कृस्न करीम राम हरि राघव जब लग एक न पेखा। वेद क...   \n",
       "998  opinion even at a critical juncture mamata ban...   \n",
       "999  राष्ट्रवादी समूह बजरंग दल में बजरंग होने के ना...   \n",
       "\n",
       "                           datetime  \\\n",
       "0    Wed Feb 20 14:46:16 +0000 2019   \n",
       "1    Wed Feb 20 14:46:17 +0000 2019   \n",
       "2    Wed Feb 20 14:46:17 +0000 2019   \n",
       "3    Wed Feb 20 14:46:17 +0000 2019   \n",
       "4    Wed Feb 20 14:46:17 +0000 2019   \n",
       "..                              ...   \n",
       "995  Wed Feb 20 14:56:21 +0000 2019   \n",
       "996  Wed Feb 20 14:56:22 +0000 2019   \n",
       "997  Wed Feb 20 14:56:22 +0000 2019   \n",
       "998  Wed Feb 20 14:56:23 +0000 2019   \n",
       "999  Wed Feb 20 14:56:23 +0000 2019   \n",
       "\n",
       "                                                  Text  \n",
       "0    Such news will be available only to the scound...  \n",
       "1    In the dastardly terrorist attack on CRPF jawa...  \n",
       "2    meraparivarbajpaparivar i suport namo i suppor...  \n",
       "3    pulwamaattack pulwamaterrorattack bollywood ty...  \n",
       "4    Pervez Musharraf says that Masood Azhar and Ha...  \n",
       "..                                                 ...  \n",
       "995  Pervez Musharraf says that Masood Azhar and Ha...  \n",
       "996  Today, candle march was organized on behalf of...  \n",
       "997  Krissin Karim Ram Hari Raghav When Lag Ek Na P...  \n",
       "998  opinion even at a critical juncture mamata ban...  \n",
       "999  Being a Bajrang in the nationalist group Bajra...  \n",
       "\n",
       "[1000 rows x 8 columns]"
      ]
     },
     "execution_count": 39,
     "metadata": {},
     "output_type": "execute_result"
    }
   ],
   "source": [
    "df9"
   ]
  },
  {
   "cell_type": "code",
   "execution_count": 40,
   "metadata": {},
   "outputs": [],
   "source": [
    "df=pd.concat([df1, df2, df3, df4, df5,df6,df7,df8,df9,df10,df11,df12,df13], ignore_index=True)"
   ]
  },
  {
   "cell_type": "code",
   "execution_count": 41,
   "metadata": {},
   "outputs": [
    {
     "data": {
      "text/html": [
       "<div>\n",
       "<style scoped>\n",
       "    .dataframe tbody tr th:only-of-type {\n",
       "        vertical-align: middle;\n",
       "    }\n",
       "\n",
       "    .dataframe tbody tr th {\n",
       "        vertical-align: top;\n",
       "    }\n",
       "\n",
       "    .dataframe thead th {\n",
       "        text-align: right;\n",
       "    }\n",
       "</style>\n",
       "<table border=\"1\" class=\"dataframe\">\n",
       "  <thead>\n",
       "    <tr style=\"text-align: right;\">\n",
       "      <th></th>\n",
       "      <th>Unnamed: 0</th>\n",
       "      <th>Unnamed: 0.1</th>\n",
       "      <th>Unnamed: 0.1.1</th>\n",
       "      <th>name</th>\n",
       "      <th>location</th>\n",
       "      <th>followers</th>\n",
       "      <th>text</th>\n",
       "      <th>datetime</th>\n",
       "      <th>Text</th>\n",
       "    </tr>\n",
       "  </thead>\n",
       "  <tbody>\n",
       "    <tr>\n",
       "      <th>0</th>\n",
       "      <td>0</td>\n",
       "      <td>0</td>\n",
       "      <td>0.0</td>\n",
       "      <td>सिंधु</td>\n",
       "      <td>india</td>\n",
       "      <td>33.0</td>\n",
       "      <td>rt देश भक्ति के इस जज्बे को भी सलाम है pulwama...</td>\n",
       "      <td>Wed Feb 20 06:57:24 +0000 2019</td>\n",
       "      <td>This spirit of rt patriotism is also saluted p...</td>\n",
       "    </tr>\n",
       "    <tr>\n",
       "      <th>1</th>\n",
       "      <td>1</td>\n",
       "      <td>1</td>\n",
       "      <td>1.0</td>\n",
       "      <td>Anuj Choudhary</td>\n",
       "      <td>new delhi, india</td>\n",
       "      <td>36.0</td>\n",
       "      <td>consequences of raised custom duty by india up...</td>\n",
       "      <td>Wed Feb 20 06:57:24 +0000 2019</td>\n",
       "      <td>consequences of raised custom duty by india up...</td>\n",
       "    </tr>\n",
       "    <tr>\n",
       "      <th>2</th>\n",
       "      <td>2</td>\n",
       "      <td>2</td>\n",
       "      <td>2.0</td>\n",
       "      <td>Hiten Panjankar 🇮🇳</td>\n",
       "      <td>india</td>\n",
       "      <td>524.0</td>\n",
       "      <td>this is true face of incindia pulwamaattack पर...</td>\n",
       "      <td>Wed Feb 20 06:57:25 +0000 2019</td>\n",
       "      <td>In the debate on this is true face of incindia...</td>\n",
       "    </tr>\n",
       "    <tr>\n",
       "      <th>3</th>\n",
       "      <td>3</td>\n",
       "      <td>3</td>\n",
       "      <td>3.0</td>\n",
       "      <td>Narendar Pandey</td>\n",
       "      <td>india</td>\n",
       "      <td>1166.0</td>\n",
       "      <td>पाकिस्तान के खिलाफ डिबेट में अगर कोई कहता है क...</td>\n",
       "      <td>Wed Feb 20 06:57:25 +0000 2019</td>\n",
       "      <td>In the debate against Pakistan, if someone say...</td>\n",
       "    </tr>\n",
       "    <tr>\n",
       "      <th>4</th>\n",
       "      <td>4</td>\n",
       "      <td>4</td>\n",
       "      <td>4.0</td>\n",
       "      <td>Teju 🇮🇳</td>\n",
       "      <td>hyderabad, india</td>\n",
       "      <td>117.0</td>\n",
       "      <td>पाकिस्तान के खिलाफ डिबेट में अगर कोई कहता है क...</td>\n",
       "      <td>Wed Feb 20 06:57:25 +0000 2019</td>\n",
       "      <td>In the debate against Pakistan, if someone say...</td>\n",
       "    </tr>\n",
       "    <tr>\n",
       "      <th>...</th>\n",
       "      <td>...</td>\n",
       "      <td>...</td>\n",
       "      <td>...</td>\n",
       "      <td>...</td>\n",
       "      <td>...</td>\n",
       "      <td>...</td>\n",
       "      <td>...</td>\n",
       "      <td>...</td>\n",
       "      <td>...</td>\n",
       "    </tr>\n",
       "    <tr>\n",
       "      <th>53995</th>\n",
       "      <td>14995</td>\n",
       "      <td>14995</td>\n",
       "      <td>NaN</td>\n",
       "      <td>Arpan</td>\n",
       "      <td>india</td>\n",
       "      <td>26.0</td>\n",
       "      <td>saudi arabian crown prince mohammed bin salman...</td>\n",
       "      <td>Wed Feb 20 09:14:16 +0000 2019</td>\n",
       "      <td>saudi arabian crown prince mohammed bin salman...</td>\n",
       "    </tr>\n",
       "    <tr>\n",
       "      <th>53996</th>\n",
       "      <td>14996</td>\n",
       "      <td>14996</td>\n",
       "      <td>NaN</td>\n",
       "      <td>Rajesh Kapoor</td>\n",
       "      <td>india</td>\n",
       "      <td>302.0</td>\n",
       "      <td>okcongi media burnol shoppers today is your ru...</td>\n",
       "      <td>Wed Feb 20 09:14:16 +0000 2019</td>\n",
       "      <td>okcongi media burnol shoppers today is your ru...</td>\n",
       "    </tr>\n",
       "    <tr>\n",
       "      <th>53997</th>\n",
       "      <td>14997</td>\n",
       "      <td>14997</td>\n",
       "      <td>NaN</td>\n",
       "      <td>B K Singh</td>\n",
       "      <td>india</td>\n",
       "      <td>590.0</td>\n",
       "      <td>pulwamaattack बाद जब राष्ट्र मांग रहा आतंकियों...</td>\n",
       "      <td>Wed Feb 20 09:14:16 +0000 2019</td>\n",
       "      <td>After the pulwamaattack, when the nation was c...</td>\n",
       "    </tr>\n",
       "    <tr>\n",
       "      <th>53998</th>\n",
       "      <td>14998</td>\n",
       "      <td>14998</td>\n",
       "      <td>NaN</td>\n",
       "      <td>Abhishek Singh</td>\n",
       "      <td>lucknow u.p.</td>\n",
       "      <td>0.0</td>\n",
       "      <td>soldier send love for his bride from border ar...</td>\n",
       "      <td>Wed Feb 20 09:14:16 +0000 2019</td>\n",
       "      <td>soldier send love for his bride from border ar...</td>\n",
       "    </tr>\n",
       "    <tr>\n",
       "      <th>53999</th>\n",
       "      <td>14999</td>\n",
       "      <td>14999</td>\n",
       "      <td>NaN</td>\n",
       "      <td>जीसीबी</td>\n",
       "      <td>rishikesh</td>\n",
       "      <td>1265.0</td>\n",
       "      <td>yesterday when in a pulwamaattack debatethe co...</td>\n",
       "      <td>Wed Feb 20 09:14:17 +0000 2019</td>\n",
       "      <td>yesterday when in a pulwamaattack debatethe co...</td>\n",
       "    </tr>\n",
       "  </tbody>\n",
       "</table>\n",
       "<p>54000 rows × 9 columns</p>\n",
       "</div>"
      ],
      "text/plain": [
       "       Unnamed: 0  Unnamed: 0.1  Unnamed: 0.1.1                name  \\\n",
       "0               0             0             0.0               सिंधु   \n",
       "1               1             1             1.0      Anuj Choudhary   \n",
       "2               2             2             2.0  Hiten Panjankar 🇮🇳   \n",
       "3               3             3             3.0     Narendar Pandey   \n",
       "4               4             4             4.0             Teju 🇮🇳   \n",
       "...           ...           ...             ...                 ...   \n",
       "53995       14995         14995             NaN               Arpan   \n",
       "53996       14996         14996             NaN       Rajesh Kapoor   \n",
       "53997       14997         14997             NaN           B K Singh   \n",
       "53998       14998         14998             NaN      Abhishek Singh   \n",
       "53999       14999         14999             NaN              जीसीबी   \n",
       "\n",
       "               location  followers  \\\n",
       "0                 india       33.0   \n",
       "1      new delhi, india       36.0   \n",
       "2                 india      524.0   \n",
       "3                 india     1166.0   \n",
       "4      hyderabad, india      117.0   \n",
       "...                 ...        ...   \n",
       "53995             india       26.0   \n",
       "53996             india      302.0   \n",
       "53997             india      590.0   \n",
       "53998      lucknow u.p.        0.0   \n",
       "53999         rishikesh     1265.0   \n",
       "\n",
       "                                                    text  \\\n",
       "0      rt देश भक्ति के इस जज्बे को भी सलाम है pulwama...   \n",
       "1      consequences of raised custom duty by india up...   \n",
       "2      this is true face of incindia pulwamaattack पर...   \n",
       "3      पाकिस्तान के खिलाफ डिबेट में अगर कोई कहता है क...   \n",
       "4      पाकिस्तान के खिलाफ डिबेट में अगर कोई कहता है क...   \n",
       "...                                                  ...   \n",
       "53995  saudi arabian crown prince mohammed bin salman...   \n",
       "53996  okcongi media burnol shoppers today is your ru...   \n",
       "53997  pulwamaattack बाद जब राष्ट्र मांग रहा आतंकियों...   \n",
       "53998  soldier send love for his bride from border ar...   \n",
       "53999  yesterday when in a pulwamaattack debatethe co...   \n",
       "\n",
       "                             datetime  \\\n",
       "0      Wed Feb 20 06:57:24 +0000 2019   \n",
       "1      Wed Feb 20 06:57:24 +0000 2019   \n",
       "2      Wed Feb 20 06:57:25 +0000 2019   \n",
       "3      Wed Feb 20 06:57:25 +0000 2019   \n",
       "4      Wed Feb 20 06:57:25 +0000 2019   \n",
       "...                               ...   \n",
       "53995  Wed Feb 20 09:14:16 +0000 2019   \n",
       "53996  Wed Feb 20 09:14:16 +0000 2019   \n",
       "53997  Wed Feb 20 09:14:16 +0000 2019   \n",
       "53998  Wed Feb 20 09:14:16 +0000 2019   \n",
       "53999  Wed Feb 20 09:14:17 +0000 2019   \n",
       "\n",
       "                                                    Text  \n",
       "0      This spirit of rt patriotism is also saluted p...  \n",
       "1      consequences of raised custom duty by india up...  \n",
       "2      In the debate on this is true face of incindia...  \n",
       "3      In the debate against Pakistan, if someone say...  \n",
       "4      In the debate against Pakistan, if someone say...  \n",
       "...                                                  ...  \n",
       "53995  saudi arabian crown prince mohammed bin salman...  \n",
       "53996  okcongi media burnol shoppers today is your ru...  \n",
       "53997  After the pulwamaattack, when the nation was c...  \n",
       "53998  soldier send love for his bride from border ar...  \n",
       "53999  yesterday when in a pulwamaattack debatethe co...  \n",
       "\n",
       "[54000 rows x 9 columns]"
      ]
     },
     "execution_count": 41,
     "metadata": {},
     "output_type": "execute_result"
    }
   ],
   "source": [
    "df"
   ]
  },
  {
   "cell_type": "code",
   "execution_count": 42,
   "metadata": {},
   "outputs": [],
   "source": [
    "import nltk.data\n",
    "from nltk.stem.porter import *\n",
    "#pd.options.mode.chained_assignment = None\n",
    "import os\n",
    "import nltk\n",
    "from textblob import TextBlob"
   ]
  },
  {
   "cell_type": "code",
   "execution_count": 43,
   "metadata": {},
   "outputs": [
    {
     "name": "stdout",
     "output_type": "stream",
     "text": [
      "Requirement already satisfied: textblob in /opt/anaconda3/lib/python3.8/site-packages (0.15.3)\n",
      "Requirement already satisfied: nltk>=3.1 in /opt/anaconda3/lib/python3.8/site-packages (from textblob) (3.5)\n",
      "Requirement already satisfied: tqdm in /opt/anaconda3/lib/python3.8/site-packages (from nltk>=3.1->textblob) (4.47.0)\n",
      "Requirement already satisfied: regex in /opt/anaconda3/lib/python3.8/site-packages (from nltk>=3.1->textblob) (2020.6.8)\n",
      "Requirement already satisfied: joblib in /opt/anaconda3/lib/python3.8/site-packages (from nltk>=3.1->textblob) (0.16.0)\n",
      "Requirement already satisfied: click in /opt/anaconda3/lib/python3.8/site-packages (from nltk>=3.1->textblob) (7.1.2)\n",
      "Note: you may need to restart the kernel to use updated packages.\n"
     ]
    }
   ],
   "source": [
    "pip install textblob"
   ]
  },
  {
   "cell_type": "code",
   "execution_count": null,
   "metadata": {},
   "outputs": [],
   "source": [
    "#df=df['Text'].astype(str)"
   ]
  },
  {
   "cell_type": "code",
   "execution_count": 46,
   "metadata": {},
   "outputs": [
    {
     "data": {
      "text/plain": [
       "(54000, 9)"
      ]
     },
     "execution_count": 46,
     "metadata": {},
     "output_type": "execute_result"
    }
   ],
   "source": [
    "df.shape"
   ]
  },
  {
   "cell_type": "code",
   "execution_count": 47,
   "metadata": {},
   "outputs": [],
   "source": [
    "tweetsdf=df"
   ]
  },
  {
   "cell_type": "code",
   "execution_count": 48,
   "metadata": {},
   "outputs": [
    {
     "data": {
      "text/plain": [
       "Unnamed: 0            0\n",
       "Unnamed: 0.1          0\n",
       "Unnamed: 0.1.1    44000\n",
       "name                  0\n",
       "location              0\n",
       "followers             0\n",
       "text                 81\n",
       "datetime              0\n",
       "Text                  4\n",
       "dtype: int64"
      ]
     },
     "execution_count": 48,
     "metadata": {},
     "output_type": "execute_result"
    }
   ],
   "source": [
    "df.isnull().sum()"
   ]
  },
  {
   "cell_type": "code",
   "execution_count": 49,
   "metadata": {},
   "outputs": [],
   "source": [
    "df.drop(['Unnamed: 0','Unnamed: 0.1','Unnamed: 0.1.1'],1,inplace=True)"
   ]
  },
  {
   "cell_type": "code",
   "execution_count": 50,
   "metadata": {},
   "outputs": [],
   "source": [
    "tweetsdf=tweetsdf.dropna()"
   ]
  },
  {
   "cell_type": "code",
   "execution_count": 51,
   "metadata": {},
   "outputs": [
    {
     "data": {
      "text/plain": [
       "(53915, 6)"
      ]
     },
     "execution_count": 51,
     "metadata": {},
     "output_type": "execute_result"
    }
   ],
   "source": [
    "tweetsdf.shape"
   ]
  },
  {
   "cell_type": "code",
   "execution_count": 52,
   "metadata": {},
   "outputs": [
    {
     "name": "stderr",
     "output_type": "stream",
     "text": [
      "<ipython-input-52-33cf6c6048e4>:8: SettingWithCopyWarning: \n",
      "A value is trying to be set on a copy of a slice from a DataFrame.\n",
      "Try using .loc[row_indexer,col_indexer] = value instead\n",
      "\n",
      "See the caveats in the documentation: https://pandas.pydata.org/pandas-docs/stable/user_guide/indexing.html#returning-a-view-versus-a-copy\n",
      "  tweetsdf['sentiment'] = tweetsdf['Text'].apply(sentiment)\n"
     ]
    }
   ],
   "source": [
    "from textblob import TextBlob\n",
    "### My input text is a column from a dataframe that contains tweets. \n",
    "\n",
    "def sentiment(x):\n",
    "    sentiment = TextBlob(x)\n",
    "    return sentiment.sentiment.polarity\n",
    "\n",
    "tweetsdf['sentiment'] = tweetsdf['Text'].apply(sentiment)\n"
   ]
  },
  {
   "cell_type": "code",
   "execution_count": 53,
   "metadata": {},
   "outputs": [
    {
     "data": {
      "text/html": [
       "<div>\n",
       "<style scoped>\n",
       "    .dataframe tbody tr th:only-of-type {\n",
       "        vertical-align: middle;\n",
       "    }\n",
       "\n",
       "    .dataframe tbody tr th {\n",
       "        vertical-align: top;\n",
       "    }\n",
       "\n",
       "    .dataframe thead th {\n",
       "        text-align: right;\n",
       "    }\n",
       "</style>\n",
       "<table border=\"1\" class=\"dataframe\">\n",
       "  <thead>\n",
       "    <tr style=\"text-align: right;\">\n",
       "      <th></th>\n",
       "      <th>name</th>\n",
       "      <th>location</th>\n",
       "      <th>followers</th>\n",
       "      <th>text</th>\n",
       "      <th>datetime</th>\n",
       "      <th>Text</th>\n",
       "      <th>sentiment</th>\n",
       "    </tr>\n",
       "  </thead>\n",
       "  <tbody>\n",
       "    <tr>\n",
       "      <th>0</th>\n",
       "      <td>सिंधु</td>\n",
       "      <td>india</td>\n",
       "      <td>33.0</td>\n",
       "      <td>rt देश भक्ति के इस जज्बे को भी सलाम है pulwama...</td>\n",
       "      <td>Wed Feb 20 06:57:24 +0000 2019</td>\n",
       "      <td>This spirit of rt patriotism is also saluted p...</td>\n",
       "      <td>0.0000</td>\n",
       "    </tr>\n",
       "    <tr>\n",
       "      <th>1</th>\n",
       "      <td>Anuj Choudhary</td>\n",
       "      <td>new delhi, india</td>\n",
       "      <td>36.0</td>\n",
       "      <td>consequences of raised custom duty by india up...</td>\n",
       "      <td>Wed Feb 20 06:57:24 +0000 2019</td>\n",
       "      <td>consequences of raised custom duty by india up...</td>\n",
       "      <td>-0.1625</td>\n",
       "    </tr>\n",
       "    <tr>\n",
       "      <th>2</th>\n",
       "      <td>Hiten Panjankar 🇮🇳</td>\n",
       "      <td>india</td>\n",
       "      <td>524.0</td>\n",
       "      <td>this is true face of incindia pulwamaattack पर...</td>\n",
       "      <td>Wed Feb 20 06:57:25 +0000 2019</td>\n",
       "      <td>In the debate on this is true face of incindia...</td>\n",
       "      <td>0.3500</td>\n",
       "    </tr>\n",
       "    <tr>\n",
       "      <th>3</th>\n",
       "      <td>Narendar Pandey</td>\n",
       "      <td>india</td>\n",
       "      <td>1166.0</td>\n",
       "      <td>पाकिस्तान के खिलाफ डिबेट में अगर कोई कहता है क...</td>\n",
       "      <td>Wed Feb 20 06:57:25 +0000 2019</td>\n",
       "      <td>In the debate against Pakistan, if someone say...</td>\n",
       "      <td>-0.0500</td>\n",
       "    </tr>\n",
       "    <tr>\n",
       "      <th>4</th>\n",
       "      <td>Teju 🇮🇳</td>\n",
       "      <td>hyderabad, india</td>\n",
       "      <td>117.0</td>\n",
       "      <td>पाकिस्तान के खिलाफ डिबेट में अगर कोई कहता है क...</td>\n",
       "      <td>Wed Feb 20 06:57:25 +0000 2019</td>\n",
       "      <td>In the debate against Pakistan, if someone say...</td>\n",
       "      <td>-0.0500</td>\n",
       "    </tr>\n",
       "    <tr>\n",
       "      <th>...</th>\n",
       "      <td>...</td>\n",
       "      <td>...</td>\n",
       "      <td>...</td>\n",
       "      <td>...</td>\n",
       "      <td>...</td>\n",
       "      <td>...</td>\n",
       "      <td>...</td>\n",
       "    </tr>\n",
       "    <tr>\n",
       "      <th>53995</th>\n",
       "      <td>Arpan</td>\n",
       "      <td>india</td>\n",
       "      <td>26.0</td>\n",
       "      <td>saudi arabian crown prince mohammed bin salman...</td>\n",
       "      <td>Wed Feb 20 09:14:16 +0000 2019</td>\n",
       "      <td>saudi arabian crown prince mohammed bin salman...</td>\n",
       "      <td>0.0000</td>\n",
       "    </tr>\n",
       "    <tr>\n",
       "      <th>53996</th>\n",
       "      <td>Rajesh Kapoor</td>\n",
       "      <td>india</td>\n",
       "      <td>302.0</td>\n",
       "      <td>okcongi media burnol shoppers today is your ru...</td>\n",
       "      <td>Wed Feb 20 09:14:16 +0000 2019</td>\n",
       "      <td>okcongi media burnol shoppers today is your ru...</td>\n",
       "      <td>0.0000</td>\n",
       "    </tr>\n",
       "    <tr>\n",
       "      <th>53997</th>\n",
       "      <td>B K Singh</td>\n",
       "      <td>india</td>\n",
       "      <td>590.0</td>\n",
       "      <td>pulwamaattack बाद जब राष्ट्र मांग रहा आतंकियों...</td>\n",
       "      <td>Wed Feb 20 09:14:16 +0000 2019</td>\n",
       "      <td>After the pulwamaattack, when the nation was c...</td>\n",
       "      <td>-0.1000</td>\n",
       "    </tr>\n",
       "    <tr>\n",
       "      <th>53998</th>\n",
       "      <td>Abhishek Singh</td>\n",
       "      <td>lucknow u.p.</td>\n",
       "      <td>0.0</td>\n",
       "      <td>soldier send love for his bride from border ar...</td>\n",
       "      <td>Wed Feb 20 09:14:16 +0000 2019</td>\n",
       "      <td>soldier send love for his bride from border ar...</td>\n",
       "      <td>0.5000</td>\n",
       "    </tr>\n",
       "    <tr>\n",
       "      <th>53999</th>\n",
       "      <td>जीसीबी</td>\n",
       "      <td>rishikesh</td>\n",
       "      <td>1265.0</td>\n",
       "      <td>yesterday when in a pulwamaattack debatethe co...</td>\n",
       "      <td>Wed Feb 20 09:14:17 +0000 2019</td>\n",
       "      <td>yesterday when in a pulwamaattack debatethe co...</td>\n",
       "      <td>0.0000</td>\n",
       "    </tr>\n",
       "  </tbody>\n",
       "</table>\n",
       "<p>53915 rows × 7 columns</p>\n",
       "</div>"
      ],
      "text/plain": [
       "                     name          location  followers  \\\n",
       "0                   सिंधु             india       33.0   \n",
       "1          Anuj Choudhary  new delhi, india       36.0   \n",
       "2      Hiten Panjankar 🇮🇳             india      524.0   \n",
       "3         Narendar Pandey             india     1166.0   \n",
       "4                 Teju 🇮🇳  hyderabad, india      117.0   \n",
       "...                   ...               ...        ...   \n",
       "53995               Arpan             india       26.0   \n",
       "53996       Rajesh Kapoor             india      302.0   \n",
       "53997           B K Singh             india      590.0   \n",
       "53998      Abhishek Singh      lucknow u.p.        0.0   \n",
       "53999              जीसीबी         rishikesh     1265.0   \n",
       "\n",
       "                                                    text  \\\n",
       "0      rt देश भक्ति के इस जज्बे को भी सलाम है pulwama...   \n",
       "1      consequences of raised custom duty by india up...   \n",
       "2      this is true face of incindia pulwamaattack पर...   \n",
       "3      पाकिस्तान के खिलाफ डिबेट में अगर कोई कहता है क...   \n",
       "4      पाकिस्तान के खिलाफ डिबेट में अगर कोई कहता है क...   \n",
       "...                                                  ...   \n",
       "53995  saudi arabian crown prince mohammed bin salman...   \n",
       "53996  okcongi media burnol shoppers today is your ru...   \n",
       "53997  pulwamaattack बाद जब राष्ट्र मांग रहा आतंकियों...   \n",
       "53998  soldier send love for his bride from border ar...   \n",
       "53999  yesterday when in a pulwamaattack debatethe co...   \n",
       "\n",
       "                             datetime  \\\n",
       "0      Wed Feb 20 06:57:24 +0000 2019   \n",
       "1      Wed Feb 20 06:57:24 +0000 2019   \n",
       "2      Wed Feb 20 06:57:25 +0000 2019   \n",
       "3      Wed Feb 20 06:57:25 +0000 2019   \n",
       "4      Wed Feb 20 06:57:25 +0000 2019   \n",
       "...                               ...   \n",
       "53995  Wed Feb 20 09:14:16 +0000 2019   \n",
       "53996  Wed Feb 20 09:14:16 +0000 2019   \n",
       "53997  Wed Feb 20 09:14:16 +0000 2019   \n",
       "53998  Wed Feb 20 09:14:16 +0000 2019   \n",
       "53999  Wed Feb 20 09:14:17 +0000 2019   \n",
       "\n",
       "                                                    Text  sentiment  \n",
       "0      This spirit of rt patriotism is also saluted p...     0.0000  \n",
       "1      consequences of raised custom duty by india up...    -0.1625  \n",
       "2      In the debate on this is true face of incindia...     0.3500  \n",
       "3      In the debate against Pakistan, if someone say...    -0.0500  \n",
       "4      In the debate against Pakistan, if someone say...    -0.0500  \n",
       "...                                                  ...        ...  \n",
       "53995  saudi arabian crown prince mohammed bin salman...     0.0000  \n",
       "53996  okcongi media burnol shoppers today is your ru...     0.0000  \n",
       "53997  After the pulwamaattack, when the nation was c...    -0.1000  \n",
       "53998  soldier send love for his bride from border ar...     0.5000  \n",
       "53999  yesterday when in a pulwamaattack debatethe co...     0.0000  \n",
       "\n",
       "[53915 rows x 7 columns]"
      ]
     },
     "execution_count": 53,
     "metadata": {},
     "output_type": "execute_result"
    }
   ],
   "source": [
    "tweetsdf"
   ]
  },
  {
   "cell_type": "code",
   "execution_count": 54,
   "metadata": {},
   "outputs": [
    {
     "data": {
      "text/plain": [
       "dtype('float64')"
      ]
     },
     "execution_count": 54,
     "metadata": {},
     "output_type": "execute_result"
    }
   ],
   "source": [
    "tweetsdf['sentiment'].dtype"
   ]
  },
  {
   "cell_type": "code",
   "execution_count": null,
   "metadata": {},
   "outputs": [],
   "source": [
    "tweetsdf['sentiments'] = tweetsdf['sentiment'].apply(sentiment)\n"
   ]
  },
  {
   "cell_type": "code",
   "execution_count": 55,
   "metadata": {},
   "outputs": [
    {
     "data": {
      "text/html": [
       "<div>\n",
       "<style scoped>\n",
       "    .dataframe tbody tr th:only-of-type {\n",
       "        vertical-align: middle;\n",
       "    }\n",
       "\n",
       "    .dataframe tbody tr th {\n",
       "        vertical-align: top;\n",
       "    }\n",
       "\n",
       "    .dataframe thead th {\n",
       "        text-align: right;\n",
       "    }\n",
       "</style>\n",
       "<table border=\"1\" class=\"dataframe\">\n",
       "  <thead>\n",
       "    <tr style=\"text-align: right;\">\n",
       "      <th></th>\n",
       "      <th>name</th>\n",
       "      <th>location</th>\n",
       "      <th>followers</th>\n",
       "      <th>text</th>\n",
       "      <th>datetime</th>\n",
       "      <th>Text</th>\n",
       "      <th>sentiment</th>\n",
       "    </tr>\n",
       "  </thead>\n",
       "  <tbody>\n",
       "    <tr>\n",
       "      <th>0</th>\n",
       "      <td>सिंधु</td>\n",
       "      <td>india</td>\n",
       "      <td>33.0</td>\n",
       "      <td>rt देश भक्ति के इस जज्बे को भी सलाम है pulwama...</td>\n",
       "      <td>Wed Feb 20 06:57:24 +0000 2019</td>\n",
       "      <td>This spirit of rt patriotism is also saluted p...</td>\n",
       "      <td>0.0000</td>\n",
       "    </tr>\n",
       "    <tr>\n",
       "      <th>1</th>\n",
       "      <td>Anuj Choudhary</td>\n",
       "      <td>new delhi, india</td>\n",
       "      <td>36.0</td>\n",
       "      <td>consequences of raised custom duty by india up...</td>\n",
       "      <td>Wed Feb 20 06:57:24 +0000 2019</td>\n",
       "      <td>consequences of raised custom duty by india up...</td>\n",
       "      <td>-0.1625</td>\n",
       "    </tr>\n",
       "    <tr>\n",
       "      <th>2</th>\n",
       "      <td>Hiten Panjankar 🇮🇳</td>\n",
       "      <td>india</td>\n",
       "      <td>524.0</td>\n",
       "      <td>this is true face of incindia pulwamaattack पर...</td>\n",
       "      <td>Wed Feb 20 06:57:25 +0000 2019</td>\n",
       "      <td>In the debate on this is true face of incindia...</td>\n",
       "      <td>0.3500</td>\n",
       "    </tr>\n",
       "    <tr>\n",
       "      <th>3</th>\n",
       "      <td>Narendar Pandey</td>\n",
       "      <td>india</td>\n",
       "      <td>1166.0</td>\n",
       "      <td>पाकिस्तान के खिलाफ डिबेट में अगर कोई कहता है क...</td>\n",
       "      <td>Wed Feb 20 06:57:25 +0000 2019</td>\n",
       "      <td>In the debate against Pakistan, if someone say...</td>\n",
       "      <td>-0.0500</td>\n",
       "    </tr>\n",
       "    <tr>\n",
       "      <th>4</th>\n",
       "      <td>Teju 🇮🇳</td>\n",
       "      <td>hyderabad, india</td>\n",
       "      <td>117.0</td>\n",
       "      <td>पाकिस्तान के खिलाफ डिबेट में अगर कोई कहता है क...</td>\n",
       "      <td>Wed Feb 20 06:57:25 +0000 2019</td>\n",
       "      <td>In the debate against Pakistan, if someone say...</td>\n",
       "      <td>-0.0500</td>\n",
       "    </tr>\n",
       "    <tr>\n",
       "      <th>...</th>\n",
       "      <td>...</td>\n",
       "      <td>...</td>\n",
       "      <td>...</td>\n",
       "      <td>...</td>\n",
       "      <td>...</td>\n",
       "      <td>...</td>\n",
       "      <td>...</td>\n",
       "    </tr>\n",
       "    <tr>\n",
       "      <th>53995</th>\n",
       "      <td>Arpan</td>\n",
       "      <td>india</td>\n",
       "      <td>26.0</td>\n",
       "      <td>saudi arabian crown prince mohammed bin salman...</td>\n",
       "      <td>Wed Feb 20 09:14:16 +0000 2019</td>\n",
       "      <td>saudi arabian crown prince mohammed bin salman...</td>\n",
       "      <td>0.0000</td>\n",
       "    </tr>\n",
       "    <tr>\n",
       "      <th>53996</th>\n",
       "      <td>Rajesh Kapoor</td>\n",
       "      <td>india</td>\n",
       "      <td>302.0</td>\n",
       "      <td>okcongi media burnol shoppers today is your ru...</td>\n",
       "      <td>Wed Feb 20 09:14:16 +0000 2019</td>\n",
       "      <td>okcongi media burnol shoppers today is your ru...</td>\n",
       "      <td>0.0000</td>\n",
       "    </tr>\n",
       "    <tr>\n",
       "      <th>53997</th>\n",
       "      <td>B K Singh</td>\n",
       "      <td>india</td>\n",
       "      <td>590.0</td>\n",
       "      <td>pulwamaattack बाद जब राष्ट्र मांग रहा आतंकियों...</td>\n",
       "      <td>Wed Feb 20 09:14:16 +0000 2019</td>\n",
       "      <td>After the pulwamaattack, when the nation was c...</td>\n",
       "      <td>-0.1000</td>\n",
       "    </tr>\n",
       "    <tr>\n",
       "      <th>53998</th>\n",
       "      <td>Abhishek Singh</td>\n",
       "      <td>lucknow u.p.</td>\n",
       "      <td>0.0</td>\n",
       "      <td>soldier send love for his bride from border ar...</td>\n",
       "      <td>Wed Feb 20 09:14:16 +0000 2019</td>\n",
       "      <td>soldier send love for his bride from border ar...</td>\n",
       "      <td>0.5000</td>\n",
       "    </tr>\n",
       "    <tr>\n",
       "      <th>53999</th>\n",
       "      <td>जीसीबी</td>\n",
       "      <td>rishikesh</td>\n",
       "      <td>1265.0</td>\n",
       "      <td>yesterday when in a pulwamaattack debatethe co...</td>\n",
       "      <td>Wed Feb 20 09:14:17 +0000 2019</td>\n",
       "      <td>yesterday when in a pulwamaattack debatethe co...</td>\n",
       "      <td>0.0000</td>\n",
       "    </tr>\n",
       "  </tbody>\n",
       "</table>\n",
       "<p>53915 rows × 7 columns</p>\n",
       "</div>"
      ],
      "text/plain": [
       "                     name          location  followers  \\\n",
       "0                   सिंधु             india       33.0   \n",
       "1          Anuj Choudhary  new delhi, india       36.0   \n",
       "2      Hiten Panjankar 🇮🇳             india      524.0   \n",
       "3         Narendar Pandey             india     1166.0   \n",
       "4                 Teju 🇮🇳  hyderabad, india      117.0   \n",
       "...                   ...               ...        ...   \n",
       "53995               Arpan             india       26.0   \n",
       "53996       Rajesh Kapoor             india      302.0   \n",
       "53997           B K Singh             india      590.0   \n",
       "53998      Abhishek Singh      lucknow u.p.        0.0   \n",
       "53999              जीसीबी         rishikesh     1265.0   \n",
       "\n",
       "                                                    text  \\\n",
       "0      rt देश भक्ति के इस जज्बे को भी सलाम है pulwama...   \n",
       "1      consequences of raised custom duty by india up...   \n",
       "2      this is true face of incindia pulwamaattack पर...   \n",
       "3      पाकिस्तान के खिलाफ डिबेट में अगर कोई कहता है क...   \n",
       "4      पाकिस्तान के खिलाफ डिबेट में अगर कोई कहता है क...   \n",
       "...                                                  ...   \n",
       "53995  saudi arabian crown prince mohammed bin salman...   \n",
       "53996  okcongi media burnol shoppers today is your ru...   \n",
       "53997  pulwamaattack बाद जब राष्ट्र मांग रहा आतंकियों...   \n",
       "53998  soldier send love for his bride from border ar...   \n",
       "53999  yesterday when in a pulwamaattack debatethe co...   \n",
       "\n",
       "                             datetime  \\\n",
       "0      Wed Feb 20 06:57:24 +0000 2019   \n",
       "1      Wed Feb 20 06:57:24 +0000 2019   \n",
       "2      Wed Feb 20 06:57:25 +0000 2019   \n",
       "3      Wed Feb 20 06:57:25 +0000 2019   \n",
       "4      Wed Feb 20 06:57:25 +0000 2019   \n",
       "...                               ...   \n",
       "53995  Wed Feb 20 09:14:16 +0000 2019   \n",
       "53996  Wed Feb 20 09:14:16 +0000 2019   \n",
       "53997  Wed Feb 20 09:14:16 +0000 2019   \n",
       "53998  Wed Feb 20 09:14:16 +0000 2019   \n",
       "53999  Wed Feb 20 09:14:17 +0000 2019   \n",
       "\n",
       "                                                    Text  sentiment  \n",
       "0      This spirit of rt patriotism is also saluted p...     0.0000  \n",
       "1      consequences of raised custom duty by india up...    -0.1625  \n",
       "2      In the debate on this is true face of incindia...     0.3500  \n",
       "3      In the debate against Pakistan, if someone say...    -0.0500  \n",
       "4      In the debate against Pakistan, if someone say...    -0.0500  \n",
       "...                                                  ...        ...  \n",
       "53995  saudi arabian crown prince mohammed bin salman...     0.0000  \n",
       "53996  okcongi media burnol shoppers today is your ru...     0.0000  \n",
       "53997  After the pulwamaattack, when the nation was c...    -0.1000  \n",
       "53998  soldier send love for his bride from border ar...     0.5000  \n",
       "53999  yesterday when in a pulwamaattack debatethe co...     0.0000  \n",
       "\n",
       "[53915 rows x 7 columns]"
      ]
     },
     "execution_count": 55,
     "metadata": {},
     "output_type": "execute_result"
    }
   ],
   "source": [
    "tweetsdf"
   ]
  },
  {
   "cell_type": "code",
   "execution_count": 56,
   "metadata": {},
   "outputs": [
    {
     "name": "stderr",
     "output_type": "stream",
     "text": [
      "<ipython-input-56-4418933b9829>:13: SettingWithCopyWarning: \n",
      "A value is trying to be set on a copy of a slice from a DataFrame.\n",
      "Try using .loc[row_indexer,col_indexer] = value instead\n",
      "\n",
      "See the caveats in the documentation: https://pandas.pydata.org/pandas-docs/stable/user_guide/indexing.html#returning-a-view-versus-a-copy\n",
      "  tweetsdf['polarity'] = tweetsdf['Text'].apply(analize_sentiment)\n"
     ]
    }
   ],
   "source": [
    "def analize_sentiment(tweet):\n",
    "    '''\n",
    "    Utility function to classify the polarity of a tweet\n",
    "    using textblob.\n",
    "    '''\n",
    "    analysis = TextBlob(tweet)\n",
    "    if analysis.sentiment.polarity > 0:\n",
    "        return 1\n",
    "    elif analysis.sentiment.polarity == 0:\n",
    "        return 0\n",
    "    else:\n",
    "        return -1\n",
    "tweetsdf['polarity'] = tweetsdf['Text'].apply(analize_sentiment)"
   ]
  },
  {
   "cell_type": "code",
   "execution_count": 57,
   "metadata": {},
   "outputs": [
    {
     "data": {
      "text/html": [
       "<div>\n",
       "<style scoped>\n",
       "    .dataframe tbody tr th:only-of-type {\n",
       "        vertical-align: middle;\n",
       "    }\n",
       "\n",
       "    .dataframe tbody tr th {\n",
       "        vertical-align: top;\n",
       "    }\n",
       "\n",
       "    .dataframe thead th {\n",
       "        text-align: right;\n",
       "    }\n",
       "</style>\n",
       "<table border=\"1\" class=\"dataframe\">\n",
       "  <thead>\n",
       "    <tr style=\"text-align: right;\">\n",
       "      <th></th>\n",
       "      <th>name</th>\n",
       "      <th>location</th>\n",
       "      <th>followers</th>\n",
       "      <th>text</th>\n",
       "      <th>datetime</th>\n",
       "      <th>Text</th>\n",
       "      <th>sentiment</th>\n",
       "      <th>polarity</th>\n",
       "    </tr>\n",
       "  </thead>\n",
       "  <tbody>\n",
       "    <tr>\n",
       "      <th>0</th>\n",
       "      <td>सिंधु</td>\n",
       "      <td>india</td>\n",
       "      <td>33.0</td>\n",
       "      <td>rt देश भक्ति के इस जज्बे को भी सलाम है pulwama...</td>\n",
       "      <td>Wed Feb 20 06:57:24 +0000 2019</td>\n",
       "      <td>This spirit of rt patriotism is also saluted p...</td>\n",
       "      <td>0.0000</td>\n",
       "      <td>0</td>\n",
       "    </tr>\n",
       "    <tr>\n",
       "      <th>1</th>\n",
       "      <td>Anuj Choudhary</td>\n",
       "      <td>new delhi, india</td>\n",
       "      <td>36.0</td>\n",
       "      <td>consequences of raised custom duty by india up...</td>\n",
       "      <td>Wed Feb 20 06:57:24 +0000 2019</td>\n",
       "      <td>consequences of raised custom duty by india up...</td>\n",
       "      <td>-0.1625</td>\n",
       "      <td>-1</td>\n",
       "    </tr>\n",
       "    <tr>\n",
       "      <th>2</th>\n",
       "      <td>Hiten Panjankar 🇮🇳</td>\n",
       "      <td>india</td>\n",
       "      <td>524.0</td>\n",
       "      <td>this is true face of incindia pulwamaattack पर...</td>\n",
       "      <td>Wed Feb 20 06:57:25 +0000 2019</td>\n",
       "      <td>In the debate on this is true face of incindia...</td>\n",
       "      <td>0.3500</td>\n",
       "      <td>1</td>\n",
       "    </tr>\n",
       "    <tr>\n",
       "      <th>3</th>\n",
       "      <td>Narendar Pandey</td>\n",
       "      <td>india</td>\n",
       "      <td>1166.0</td>\n",
       "      <td>पाकिस्तान के खिलाफ डिबेट में अगर कोई कहता है क...</td>\n",
       "      <td>Wed Feb 20 06:57:25 +0000 2019</td>\n",
       "      <td>In the debate against Pakistan, if someone say...</td>\n",
       "      <td>-0.0500</td>\n",
       "      <td>-1</td>\n",
       "    </tr>\n",
       "    <tr>\n",
       "      <th>4</th>\n",
       "      <td>Teju 🇮🇳</td>\n",
       "      <td>hyderabad, india</td>\n",
       "      <td>117.0</td>\n",
       "      <td>पाकिस्तान के खिलाफ डिबेट में अगर कोई कहता है क...</td>\n",
       "      <td>Wed Feb 20 06:57:25 +0000 2019</td>\n",
       "      <td>In the debate against Pakistan, if someone say...</td>\n",
       "      <td>-0.0500</td>\n",
       "      <td>-1</td>\n",
       "    </tr>\n",
       "    <tr>\n",
       "      <th>...</th>\n",
       "      <td>...</td>\n",
       "      <td>...</td>\n",
       "      <td>...</td>\n",
       "      <td>...</td>\n",
       "      <td>...</td>\n",
       "      <td>...</td>\n",
       "      <td>...</td>\n",
       "      <td>...</td>\n",
       "    </tr>\n",
       "    <tr>\n",
       "      <th>53995</th>\n",
       "      <td>Arpan</td>\n",
       "      <td>india</td>\n",
       "      <td>26.0</td>\n",
       "      <td>saudi arabian crown prince mohammed bin salman...</td>\n",
       "      <td>Wed Feb 20 09:14:16 +0000 2019</td>\n",
       "      <td>saudi arabian crown prince mohammed bin salman...</td>\n",
       "      <td>0.0000</td>\n",
       "      <td>0</td>\n",
       "    </tr>\n",
       "    <tr>\n",
       "      <th>53996</th>\n",
       "      <td>Rajesh Kapoor</td>\n",
       "      <td>india</td>\n",
       "      <td>302.0</td>\n",
       "      <td>okcongi media burnol shoppers today is your ru...</td>\n",
       "      <td>Wed Feb 20 09:14:16 +0000 2019</td>\n",
       "      <td>okcongi media burnol shoppers today is your ru...</td>\n",
       "      <td>0.0000</td>\n",
       "      <td>0</td>\n",
       "    </tr>\n",
       "    <tr>\n",
       "      <th>53997</th>\n",
       "      <td>B K Singh</td>\n",
       "      <td>india</td>\n",
       "      <td>590.0</td>\n",
       "      <td>pulwamaattack बाद जब राष्ट्र मांग रहा आतंकियों...</td>\n",
       "      <td>Wed Feb 20 09:14:16 +0000 2019</td>\n",
       "      <td>After the pulwamaattack, when the nation was c...</td>\n",
       "      <td>-0.1000</td>\n",
       "      <td>-1</td>\n",
       "    </tr>\n",
       "    <tr>\n",
       "      <th>53998</th>\n",
       "      <td>Abhishek Singh</td>\n",
       "      <td>lucknow u.p.</td>\n",
       "      <td>0.0</td>\n",
       "      <td>soldier send love for his bride from border ar...</td>\n",
       "      <td>Wed Feb 20 09:14:16 +0000 2019</td>\n",
       "      <td>soldier send love for his bride from border ar...</td>\n",
       "      <td>0.5000</td>\n",
       "      <td>1</td>\n",
       "    </tr>\n",
       "    <tr>\n",
       "      <th>53999</th>\n",
       "      <td>जीसीबी</td>\n",
       "      <td>rishikesh</td>\n",
       "      <td>1265.0</td>\n",
       "      <td>yesterday when in a pulwamaattack debatethe co...</td>\n",
       "      <td>Wed Feb 20 09:14:17 +0000 2019</td>\n",
       "      <td>yesterday when in a pulwamaattack debatethe co...</td>\n",
       "      <td>0.0000</td>\n",
       "      <td>0</td>\n",
       "    </tr>\n",
       "  </tbody>\n",
       "</table>\n",
       "<p>53915 rows × 8 columns</p>\n",
       "</div>"
      ],
      "text/plain": [
       "                     name          location  followers  \\\n",
       "0                   सिंधु             india       33.0   \n",
       "1          Anuj Choudhary  new delhi, india       36.0   \n",
       "2      Hiten Panjankar 🇮🇳             india      524.0   \n",
       "3         Narendar Pandey             india     1166.0   \n",
       "4                 Teju 🇮🇳  hyderabad, india      117.0   \n",
       "...                   ...               ...        ...   \n",
       "53995               Arpan             india       26.0   \n",
       "53996       Rajesh Kapoor             india      302.0   \n",
       "53997           B K Singh             india      590.0   \n",
       "53998      Abhishek Singh      lucknow u.p.        0.0   \n",
       "53999              जीसीबी         rishikesh     1265.0   \n",
       "\n",
       "                                                    text  \\\n",
       "0      rt देश भक्ति के इस जज्बे को भी सलाम है pulwama...   \n",
       "1      consequences of raised custom duty by india up...   \n",
       "2      this is true face of incindia pulwamaattack पर...   \n",
       "3      पाकिस्तान के खिलाफ डिबेट में अगर कोई कहता है क...   \n",
       "4      पाकिस्तान के खिलाफ डिबेट में अगर कोई कहता है क...   \n",
       "...                                                  ...   \n",
       "53995  saudi arabian crown prince mohammed bin salman...   \n",
       "53996  okcongi media burnol shoppers today is your ru...   \n",
       "53997  pulwamaattack बाद जब राष्ट्र मांग रहा आतंकियों...   \n",
       "53998  soldier send love for his bride from border ar...   \n",
       "53999  yesterday when in a pulwamaattack debatethe co...   \n",
       "\n",
       "                             datetime  \\\n",
       "0      Wed Feb 20 06:57:24 +0000 2019   \n",
       "1      Wed Feb 20 06:57:24 +0000 2019   \n",
       "2      Wed Feb 20 06:57:25 +0000 2019   \n",
       "3      Wed Feb 20 06:57:25 +0000 2019   \n",
       "4      Wed Feb 20 06:57:25 +0000 2019   \n",
       "...                               ...   \n",
       "53995  Wed Feb 20 09:14:16 +0000 2019   \n",
       "53996  Wed Feb 20 09:14:16 +0000 2019   \n",
       "53997  Wed Feb 20 09:14:16 +0000 2019   \n",
       "53998  Wed Feb 20 09:14:16 +0000 2019   \n",
       "53999  Wed Feb 20 09:14:17 +0000 2019   \n",
       "\n",
       "                                                    Text  sentiment  polarity  \n",
       "0      This spirit of rt patriotism is also saluted p...     0.0000         0  \n",
       "1      consequences of raised custom duty by india up...    -0.1625        -1  \n",
       "2      In the debate on this is true face of incindia...     0.3500         1  \n",
       "3      In the debate against Pakistan, if someone say...    -0.0500        -1  \n",
       "4      In the debate against Pakistan, if someone say...    -0.0500        -1  \n",
       "...                                                  ...        ...       ...  \n",
       "53995  saudi arabian crown prince mohammed bin salman...     0.0000         0  \n",
       "53996  okcongi media burnol shoppers today is your ru...     0.0000         0  \n",
       "53997  After the pulwamaattack, when the nation was c...    -0.1000        -1  \n",
       "53998  soldier send love for his bride from border ar...     0.5000         1  \n",
       "53999  yesterday when in a pulwamaattack debatethe co...     0.0000         0  \n",
       "\n",
       "[53915 rows x 8 columns]"
      ]
     },
     "execution_count": 57,
     "metadata": {},
     "output_type": "execute_result"
    }
   ],
   "source": [
    "tweetsdf"
   ]
  },
  {
   "cell_type": "code",
   "execution_count": 28,
   "metadata": {},
   "outputs": [],
   "source": [
    "tweetsdf.to_csv('tweets1.csv',header=True)"
   ]
  },
  {
   "cell_type": "code",
   "execution_count": null,
   "metadata": {},
   "outputs": [],
   "source": [
    "tweetsdf.drop(['sentiments'],1,inplace=True)"
   ]
  },
  {
   "cell_type": "code",
   "execution_count": 61,
   "metadata": {},
   "outputs": [
    {
     "data": {
      "text/html": [
       "<div>\n",
       "<style scoped>\n",
       "    .dataframe tbody tr th:only-of-type {\n",
       "        vertical-align: middle;\n",
       "    }\n",
       "\n",
       "    .dataframe tbody tr th {\n",
       "        vertical-align: top;\n",
       "    }\n",
       "\n",
       "    .dataframe thead th {\n",
       "        text-align: right;\n",
       "    }\n",
       "</style>\n",
       "<table border=\"1\" class=\"dataframe\">\n",
       "  <thead>\n",
       "    <tr style=\"text-align: right;\">\n",
       "      <th></th>\n",
       "      <th>name</th>\n",
       "      <th>location</th>\n",
       "      <th>followers</th>\n",
       "      <th>text</th>\n",
       "      <th>datetime</th>\n",
       "      <th>Text</th>\n",
       "      <th>sentiment</th>\n",
       "      <th>polarity</th>\n",
       "    </tr>\n",
       "  </thead>\n",
       "  <tbody>\n",
       "    <tr>\n",
       "      <th>0</th>\n",
       "      <td>सिंधु</td>\n",
       "      <td>india</td>\n",
       "      <td>33.0</td>\n",
       "      <td>rt देश भक्ति के इस जज्बे को भी सलाम है pulwama...</td>\n",
       "      <td>Wed Feb 20 06:57:24 +0000 2019</td>\n",
       "      <td>This spirit of rt patriotism is also saluted p...</td>\n",
       "      <td>0.0000</td>\n",
       "      <td>0</td>\n",
       "    </tr>\n",
       "    <tr>\n",
       "      <th>1</th>\n",
       "      <td>Anuj Choudhary</td>\n",
       "      <td>new delhi, india</td>\n",
       "      <td>36.0</td>\n",
       "      <td>consequences of raised custom duty by india up...</td>\n",
       "      <td>Wed Feb 20 06:57:24 +0000 2019</td>\n",
       "      <td>consequences of raised custom duty by india up...</td>\n",
       "      <td>-0.1625</td>\n",
       "      <td>-1</td>\n",
       "    </tr>\n",
       "    <tr>\n",
       "      <th>2</th>\n",
       "      <td>Hiten Panjankar 🇮🇳</td>\n",
       "      <td>india</td>\n",
       "      <td>524.0</td>\n",
       "      <td>this is true face of incindia pulwamaattack पर...</td>\n",
       "      <td>Wed Feb 20 06:57:25 +0000 2019</td>\n",
       "      <td>In the debate on this is true face of incindia...</td>\n",
       "      <td>0.3500</td>\n",
       "      <td>1</td>\n",
       "    </tr>\n",
       "    <tr>\n",
       "      <th>3</th>\n",
       "      <td>Narendar Pandey</td>\n",
       "      <td>india</td>\n",
       "      <td>1166.0</td>\n",
       "      <td>पाकिस्तान के खिलाफ डिबेट में अगर कोई कहता है क...</td>\n",
       "      <td>Wed Feb 20 06:57:25 +0000 2019</td>\n",
       "      <td>In the debate against Pakistan, if someone say...</td>\n",
       "      <td>-0.0500</td>\n",
       "      <td>-1</td>\n",
       "    </tr>\n",
       "    <tr>\n",
       "      <th>4</th>\n",
       "      <td>Teju 🇮🇳</td>\n",
       "      <td>hyderabad, india</td>\n",
       "      <td>117.0</td>\n",
       "      <td>पाकिस्तान के खिलाफ डिबेट में अगर कोई कहता है क...</td>\n",
       "      <td>Wed Feb 20 06:57:25 +0000 2019</td>\n",
       "      <td>In the debate against Pakistan, if someone say...</td>\n",
       "      <td>-0.0500</td>\n",
       "      <td>-1</td>\n",
       "    </tr>\n",
       "    <tr>\n",
       "      <th>...</th>\n",
       "      <td>...</td>\n",
       "      <td>...</td>\n",
       "      <td>...</td>\n",
       "      <td>...</td>\n",
       "      <td>...</td>\n",
       "      <td>...</td>\n",
       "      <td>...</td>\n",
       "      <td>...</td>\n",
       "    </tr>\n",
       "    <tr>\n",
       "      <th>53995</th>\n",
       "      <td>Arpan</td>\n",
       "      <td>india</td>\n",
       "      <td>26.0</td>\n",
       "      <td>saudi arabian crown prince mohammed bin salman...</td>\n",
       "      <td>Wed Feb 20 09:14:16 +0000 2019</td>\n",
       "      <td>saudi arabian crown prince mohammed bin salman...</td>\n",
       "      <td>0.0000</td>\n",
       "      <td>0</td>\n",
       "    </tr>\n",
       "    <tr>\n",
       "      <th>53996</th>\n",
       "      <td>Rajesh Kapoor</td>\n",
       "      <td>india</td>\n",
       "      <td>302.0</td>\n",
       "      <td>okcongi media burnol shoppers today is your ru...</td>\n",
       "      <td>Wed Feb 20 09:14:16 +0000 2019</td>\n",
       "      <td>okcongi media burnol shoppers today is your ru...</td>\n",
       "      <td>0.0000</td>\n",
       "      <td>0</td>\n",
       "    </tr>\n",
       "    <tr>\n",
       "      <th>53997</th>\n",
       "      <td>B K Singh</td>\n",
       "      <td>india</td>\n",
       "      <td>590.0</td>\n",
       "      <td>pulwamaattack बाद जब राष्ट्र मांग रहा आतंकियों...</td>\n",
       "      <td>Wed Feb 20 09:14:16 +0000 2019</td>\n",
       "      <td>After the pulwamaattack, when the nation was c...</td>\n",
       "      <td>-0.1000</td>\n",
       "      <td>-1</td>\n",
       "    </tr>\n",
       "    <tr>\n",
       "      <th>53998</th>\n",
       "      <td>Abhishek Singh</td>\n",
       "      <td>lucknow u.p.</td>\n",
       "      <td>0.0</td>\n",
       "      <td>soldier send love for his bride from border ar...</td>\n",
       "      <td>Wed Feb 20 09:14:16 +0000 2019</td>\n",
       "      <td>soldier send love for his bride from border ar...</td>\n",
       "      <td>0.5000</td>\n",
       "      <td>1</td>\n",
       "    </tr>\n",
       "    <tr>\n",
       "      <th>53999</th>\n",
       "      <td>जीसीबी</td>\n",
       "      <td>rishikesh</td>\n",
       "      <td>1265.0</td>\n",
       "      <td>yesterday when in a pulwamaattack debatethe co...</td>\n",
       "      <td>Wed Feb 20 09:14:17 +0000 2019</td>\n",
       "      <td>yesterday when in a pulwamaattack debatethe co...</td>\n",
       "      <td>0.0000</td>\n",
       "      <td>0</td>\n",
       "    </tr>\n",
       "  </tbody>\n",
       "</table>\n",
       "<p>53915 rows × 8 columns</p>\n",
       "</div>"
      ],
      "text/plain": [
       "                     name          location  followers  \\\n",
       "0                   सिंधु             india       33.0   \n",
       "1          Anuj Choudhary  new delhi, india       36.0   \n",
       "2      Hiten Panjankar 🇮🇳             india      524.0   \n",
       "3         Narendar Pandey             india     1166.0   \n",
       "4                 Teju 🇮🇳  hyderabad, india      117.0   \n",
       "...                   ...               ...        ...   \n",
       "53995               Arpan             india       26.0   \n",
       "53996       Rajesh Kapoor             india      302.0   \n",
       "53997           B K Singh             india      590.0   \n",
       "53998      Abhishek Singh      lucknow u.p.        0.0   \n",
       "53999              जीसीबी         rishikesh     1265.0   \n",
       "\n",
       "                                                    text  \\\n",
       "0      rt देश भक्ति के इस जज्बे को भी सलाम है pulwama...   \n",
       "1      consequences of raised custom duty by india up...   \n",
       "2      this is true face of incindia pulwamaattack पर...   \n",
       "3      पाकिस्तान के खिलाफ डिबेट में अगर कोई कहता है क...   \n",
       "4      पाकिस्तान के खिलाफ डिबेट में अगर कोई कहता है क...   \n",
       "...                                                  ...   \n",
       "53995  saudi arabian crown prince mohammed bin salman...   \n",
       "53996  okcongi media burnol shoppers today is your ru...   \n",
       "53997  pulwamaattack बाद जब राष्ट्र मांग रहा आतंकियों...   \n",
       "53998  soldier send love for his bride from border ar...   \n",
       "53999  yesterday when in a pulwamaattack debatethe co...   \n",
       "\n",
       "                             datetime  \\\n",
       "0      Wed Feb 20 06:57:24 +0000 2019   \n",
       "1      Wed Feb 20 06:57:24 +0000 2019   \n",
       "2      Wed Feb 20 06:57:25 +0000 2019   \n",
       "3      Wed Feb 20 06:57:25 +0000 2019   \n",
       "4      Wed Feb 20 06:57:25 +0000 2019   \n",
       "...                               ...   \n",
       "53995  Wed Feb 20 09:14:16 +0000 2019   \n",
       "53996  Wed Feb 20 09:14:16 +0000 2019   \n",
       "53997  Wed Feb 20 09:14:16 +0000 2019   \n",
       "53998  Wed Feb 20 09:14:16 +0000 2019   \n",
       "53999  Wed Feb 20 09:14:17 +0000 2019   \n",
       "\n",
       "                                                    Text  sentiment  polarity  \n",
       "0      This spirit of rt patriotism is also saluted p...     0.0000         0  \n",
       "1      consequences of raised custom duty by india up...    -0.1625        -1  \n",
       "2      In the debate on this is true face of incindia...     0.3500         1  \n",
       "3      In the debate against Pakistan, if someone say...    -0.0500        -1  \n",
       "4      In the debate against Pakistan, if someone say...    -0.0500        -1  \n",
       "...                                                  ...        ...       ...  \n",
       "53995  saudi arabian crown prince mohammed bin salman...     0.0000         0  \n",
       "53996  okcongi media burnol shoppers today is your ru...     0.0000         0  \n",
       "53997  After the pulwamaattack, when the nation was c...    -0.1000        -1  \n",
       "53998  soldier send love for his bride from border ar...     0.5000         1  \n",
       "53999  yesterday when in a pulwamaattack debatethe co...     0.0000         0  \n",
       "\n",
       "[53915 rows x 8 columns]"
      ]
     },
     "execution_count": 61,
     "metadata": {},
     "output_type": "execute_result"
    }
   ],
   "source": [
    "tweetsdf"
   ]
  },
  {
   "cell_type": "code",
   "execution_count": 63,
   "metadata": {},
   "outputs": [],
   "source": [
    "import matplotlib.pyplot as plt"
   ]
  },
  {
   "cell_type": "code",
   "execution_count": 74,
   "metadata": {},
   "outputs": [
    {
     "name": "stdout",
     "output_type": "stream",
     "text": [
      "24237\n",
      "17482\n",
      "12196\n"
     ]
    }
   ],
   "source": [
    "Neutral=0\n",
    "Positive=0\n",
    "Negative=0\n",
    "for i in tweetsdf['polarity']:\n",
    "    if i==0:\n",
    "        Neutral=Neutral+1\n",
    "    elif i==1:\n",
    "        Positive=Positive+1\n",
    "    else:\n",
    "        Negative =Negative+1\n",
    "print(Neutral)\n",
    "print(Positive)\n",
    "print(Negative)\n",
    "\n",
    "53915"
   ]
  },
  {
   "cell_type": "code",
   "execution_count": 78,
   "metadata": {},
   "outputs": [
    {
     "name": "stdout",
     "output_type": "stream",
     "text": [
      "Total Positive =  17482\n",
      "Total Negative =  12196\n",
      "Total Neutral =  24237\n"
     ]
    },
    {
     "data": {
      "image/png": "[encoded data removed]",
      "text/plain": [
       "<Figure size 432x288 with 1 Axes>"
      ]
     },
     "metadata": {},
     "output_type": "display_data"
    }
   ],
   "source": [
    "Neutral=0\n",
    "Positive=0\n",
    "Negative=0\n",
    "for i in tweetsdf['polarity']:\n",
    "    if i==0:\n",
    "        Neutral=Neutral+1\n",
    "    elif i==1:\n",
    "        Positive=Positive+1\n",
    "    else:\n",
    "        Negative =Negative+1\n",
    "print(\"Total Positive = \", Positive)\n",
    "print(\"Total Negative = \", Negative)\n",
    "print(\"Total Neutral = \", Neutral)\n",
    "\n",
    "#Plotting sentiments\n",
    "labels = 'Positive', 'Negative', 'Neutral'\n",
    "sizes = [Positive, Negative, Neutral]\n",
    "colors = ['gold', 'yellowgreen', 'lightcoral']\n",
    "explode = (0.1, 0, 0)  # explode 1st slice\n",
    "plt.pie(sizes, explode=explode, labels=labels, colors=colors, autopct='%1.1f%%', shadow=True, startangle=140)\n",
    "plt.axis('equal')\n",
    "plt.show()\n",
    "\n"
   ]
  },
  {
   "cell_type": "code",
   "execution_count": null,
   "metadata": {},
   "outputs": [],
   "source": []
  }
 ],
 "metadata": {
  "kernelspec": {
   "display_name": "Python 3",
   "language": "python",
   "name": "python3"
  },
  "language_info": {
   "codemirror_mode": {
    "name": "ipython",
    "version": 3
   },
   "file_extension": ".py",
   "mimetype": "text/x-python",
   "name": "python",
   "nbconvert_exporter": "python",
   "pygments_lexer": "ipython3",
   "version": "3.8.3"
  }
 },
 "nbformat": 4,
 "nbformat_minor": 4
}
